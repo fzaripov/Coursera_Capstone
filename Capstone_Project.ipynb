{
    "nbformat_minor": 1, 
    "cells": [
        {
            "source": "# Coursera Capstone Project", 
            "cell_type": "markdown", 
            "metadata": {
                "collapsed": true
            }
        }, 
        {
            "source": "## SECTION 1. \n### Introduction\nMy Capstone Project is focused on developing ML model to recommend optimal locations as expansion opportunities for Patsy's pizzeria, one of the most iconic pizzerias of New York city.  \n\nSince its origination in 1933, Patsy\u2019s was able to build a loyal client base and became a regular hang out place for many celebrities including Frank Sinatra, Dean Martin and Tony Bennett. Despite its popularity Patsy\u2019s still operates at a single location: 2287 First Avenue New York, NY 10035. \n\nThe ML model will be able to compare various neighborhoods based on common sets of features and recommends the best match to current successful location. \n\nIn order to demonstrate the capabilities of the model, it would be asked to identify two most fitting locations: \n- one within the same geographic area (NYC)\n- second in the opposite cost (San Francisco)\n\n### Business problem and targeted audience.\nThe model would help resolving a common problem of identifying the optimal operating location to expand a successful business model. \n\nWhile large corporations employ a team of data engineers and scientists to address the problem, there is a large underserved market of small businesses that are deprived of those analytical capabilities. \n\nAlthough, the focus of the project is Patsy's Pizzeria, the model could be leveraged by other businesses to address common expansion challenges.", 
            "cell_type": "markdown", 
            "metadata": {}
        }, 
        {
            "source": "## SECTION 2. Data\n\n### Venue and location data from FourSquare\nFourSquare was used to obtain common business categories that are relevant to the identified geographic location. \n### Open source data and feature engineering. \nThe following sources were used to derive business growth and population size scores for the targeted areas  \n- NYC list of businesses (https://data.cityofnewyork.us/Business/Legally-Operating-Businesses/w7w3-xahh)\n- San Francisco list of businesses (https://data.sfgov.org/Economy-and-Community/Registered-Business-Locations-San-Francisco/g8m3-pdis)\n- IRS tax return stats based on zipcodes. https://www.irs.gov/statistics/soi-tax-stats-individual-income-tax-statistics-2016-zip-code-data-soi. ", 
            "cell_type": "markdown", 
            "metadata": {}
        }, 
        {
            "execution_count": null, 
            "cell_type": "code", 
            "metadata": {}, 
            "outputs": [], 
            "source": ""
        }
    ], 
    "metadata": {
        "kernelspec": {
            "display_name": "Python 3.5", 
            "name": "python3", 
            "language": "python"
        }, 
        "language_info": {
            "mimetype": "text/x-python", 
            "nbconvert_exporter": "python", 
            "version": "3.5.5", 
            "name": "python", 
            "file_extension": ".py", 
            "pygments_lexer": "ipython3", 
            "codemirror_mode": {
                "version": 3, 
                "name": "ipython"
            }
        }
    }, 
    "nbformat": 4
}