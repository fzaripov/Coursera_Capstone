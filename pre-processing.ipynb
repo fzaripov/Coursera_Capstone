{
    "nbformat_minor": 1, 
    "cells": [
        {
            "execution_count": 1, 
            "cell_type": "code", 
            "metadata": {}, 
            "outputs": [
                {
                    "output_type": "stream", 
                    "name": "stdout", 
                    "text": "Libraries imported.\n"
                }
            ], 
            "source": "import pandas as pd\nimport requests\nfrom bs4 import BeautifulSoup\n\nimport numpy as np # library to handle data in a vectorized manner\n\npd.set_option('display.max_columns', None)\npd.set_option('display.max_rows', None)\n\n\n#!conda install -c conda-forge geopy --yes # uncomment this line if you haven't completed the Foursquare API lab\nfrom geopy.geocoders import Nominatim # convert an address into latitude and longitude values\n\nimport requests # library to handle requests\nfrom pandas.io.json import json_normalize # tranform JSON file into a pandas dataframe\n\n# Matplotlib and associated plotting modules\nimport matplotlib.cm as cm\nimport matplotlib.colors as colors\n\n# import k-means from clustering stage\nfrom sklearn.cluster import KMeans\n\n#!conda install -c conda-forge folium=0.5.0 --yes # uncomment this line if you haven't completed the Foursquare API lab\nimport folium # map rendering library\n\nprint('Libraries imported.')"
        }, 
        {
            "source": "# Get and pre-process the dataset", 
            "cell_type": "markdown", 
            "metadata": {}
        }, 
        {
            "execution_count": 2, 
            "cell_type": "code", 
            "metadata": {}, 
            "outputs": [
                {
                    "execution_count": 2, 
                    "metadata": {}, 
                    "data": {
                        "text/plain": "(102, 3)"
                    }, 
                    "output_type": "execute_result"
                }
            ], 
            "source": "URL = \"https://en.wikipedia.org/wiki/List_of_postal_codes_of_Canada:_M\"\n\ncols = ['PostalCode', 'Borough', 'Neighborhood']\n\n# create a list, populate it firtst and then use it to create dataframe after the loop\nlst = []\n\nres = requests.get(URL).text\nsoup = BeautifulSoup(res,'lxml')\n\ndf = pd.DataFrame(columns=['PostalCode', 'Borough', 'Neighborhood'])\n\nfor items in soup.find('table', class_='wikitable').find_all('tr')[1::1]:\n    data = items.find_all(['th','td'])\n    \n    # eliminate records with non assigned Borough values\n    # the code also assignes Borough values to Neighborhood where it is not assigned\n    if \"Not assigned\" not in data[2].text:     \n        try:\n            postal_code = data[0].text\n            \n            if \"href=\" in data[1].text:\n                borough = data[1].a.text\n            else:\n                borough = data[1].text\n                \n            if \"Not assigned\" in data[2].text:   \n                neigb = borough\n            else:\n                if \"href=\" in data[2].text:\n                    neigb = data[2].a.text\n                else:\n                    neigb = data[2].text       \n\n        except IndexError:pass\n        lst.append([postal_code,borough,neigb])\n        \ndf = pd.DataFrame(lst, columns=cols)\ndf = df.groupby(['PostalCode','Borough'])['Neighborhood'].apply(','.join).reset_index()\ndf.shape"
        }, 
        {
            "execution_count": null, 
            "cell_type": "code", 
            "metadata": {}, 
            "outputs": [], 
            "source": ""
        }
    ], 
    "metadata": {
        "kernelspec": {
            "display_name": "Python 3.5", 
            "name": "python3", 
            "language": "python"
        }, 
        "language_info": {
            "mimetype": "text/x-python", 
            "nbconvert_exporter": "python", 
            "version": "3.5.5", 
            "name": "python", 
            "file_extension": ".py", 
            "pygments_lexer": "ipython3", 
            "codemirror_mode": {
                "version": 3, 
                "name": "ipython"
            }
        }
    }, 
    "nbformat": 4
}